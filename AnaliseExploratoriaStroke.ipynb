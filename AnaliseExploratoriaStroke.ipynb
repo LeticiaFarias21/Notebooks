{
 "cells": [
  {
   "cell_type": "code",
   "execution_count": 3,
   "metadata": {},
   "outputs": [
    {
     "name": "stdout",
     "output_type": "stream",
     "text": [
      "Downloading from https://www.kaggle.com/api/v1/datasets/download/fedesoriano/stroke-prediction-dataset?dataset_version_number=1...\n"
     ]
    },
    {
     "name": "stderr",
     "output_type": "stream",
     "text": [
      "100%|██████████| 67.4k/67.4k [00:00<00:00, 434kB/s]"
     ]
    },
    {
     "name": "stdout",
     "output_type": "stream",
     "text": [
      "Extracting files...\n",
      "Path to dataset files: /Users/lelefarias/.cache/kagglehub/datasets/fedesoriano/stroke-prediction-dataset/versions/1\n"
     ]
    },
    {
     "name": "stderr",
     "output_type": "stream",
     "text": [
      "\n"
     ]
    }
   ],
   "source": [
    "import kagglehub\n",
    "\n",
    "# Download latest version\n",
    "path = kagglehub.dataset_download(\"fedesoriano/stroke-prediction-dataset\")\n",
    "\n",
    "print(\"Path to dataset files:\", path)"
   ]
  },
  {
   "cell_type": "markdown",
   "metadata": {},
   "source": [
    "## Parte 1 -  Analise Exploratória"
   ]
  },
  {
   "cell_type": "code",
   "execution_count": null,
   "metadata": {},
   "outputs": [],
   "source": [
    "import pandas as pd\n",
    "import numpy as np\n",
    "import matplotlib.pyplot as plt\n",
    "import seaborn as sns\n",
    "\n",
    "df = pd.read_csv(\"healthcare-dataset-stroke-data.csv\", encoding='latin1')"
   ]
  },
  {
   "cell_type": "markdown",
   "metadata": {},
   "source": [
    "### Justificativa DataSet\n",
    "\n",
    "O DataSet é realacionado ao tema saúde, focado na análise de Acidentes Vascular Cerebral, em inglês 'Stroke'. Com um trabalho bem sucedido é póssivel alertar certos grupos de risco, a fim de redobrar os cuidados e até realizar tratamento preventivo."
   ]
  },
  {
   "cell_type": "code",
   "execution_count": 8,
   "metadata": {},
   "outputs": [
    {
     "data": {
      "text/html": [
       "<div>\n",
       "<style scoped>\n",
       "    .dataframe tbody tr th:only-of-type {\n",
       "        vertical-align: middle;\n",
       "    }\n",
       "\n",
       "    .dataframe tbody tr th {\n",
       "        vertical-align: top;\n",
       "    }\n",
       "\n",
       "    .dataframe thead th {\n",
       "        text-align: right;\n",
       "    }\n",
       "</style>\n",
       "<table border=\"1\" class=\"dataframe\">\n",
       "  <thead>\n",
       "    <tr style=\"text-align: right;\">\n",
       "      <th></th>\n",
       "      <th>id</th>\n",
       "      <th>age</th>\n",
       "      <th>hypertension</th>\n",
       "      <th>heart_disease</th>\n",
       "      <th>ever_married</th>\n",
       "      <th>work_type</th>\n",
       "      <th>avg_glucose_level</th>\n",
       "      <th>smoking_status</th>\n",
       "      <th>stroke</th>\n",
       "    </tr>\n",
       "  </thead>\n",
       "  <tbody>\n",
       "    <tr>\n",
       "      <th>0</th>\n",
       "      <td>9046</td>\n",
       "      <td>67.0</td>\n",
       "      <td>0</td>\n",
       "      <td>1</td>\n",
       "      <td>Yes</td>\n",
       "      <td>Private</td>\n",
       "      <td>228.69</td>\n",
       "      <td>formerly smoked</td>\n",
       "      <td>1</td>\n",
       "    </tr>\n",
       "    <tr>\n",
       "      <th>1</th>\n",
       "      <td>51676</td>\n",
       "      <td>61.0</td>\n",
       "      <td>0</td>\n",
       "      <td>0</td>\n",
       "      <td>Yes</td>\n",
       "      <td>Self-employed</td>\n",
       "      <td>202.21</td>\n",
       "      <td>never smoked</td>\n",
       "      <td>1</td>\n",
       "    </tr>\n",
       "    <tr>\n",
       "      <th>2</th>\n",
       "      <td>31112</td>\n",
       "      <td>80.0</td>\n",
       "      <td>0</td>\n",
       "      <td>1</td>\n",
       "      <td>Yes</td>\n",
       "      <td>Private</td>\n",
       "      <td>105.92</td>\n",
       "      <td>never smoked</td>\n",
       "      <td>1</td>\n",
       "    </tr>\n",
       "    <tr>\n",
       "      <th>3</th>\n",
       "      <td>60182</td>\n",
       "      <td>49.0</td>\n",
       "      <td>0</td>\n",
       "      <td>0</td>\n",
       "      <td>Yes</td>\n",
       "      <td>Private</td>\n",
       "      <td>171.23</td>\n",
       "      <td>smokes</td>\n",
       "      <td>1</td>\n",
       "    </tr>\n",
       "    <tr>\n",
       "      <th>4</th>\n",
       "      <td>1665</td>\n",
       "      <td>79.0</td>\n",
       "      <td>1</td>\n",
       "      <td>0</td>\n",
       "      <td>Yes</td>\n",
       "      <td>Self-employed</td>\n",
       "      <td>174.12</td>\n",
       "      <td>never smoked</td>\n",
       "      <td>1</td>\n",
       "    </tr>\n",
       "  </tbody>\n",
       "</table>\n",
       "</div>"
      ],
      "text/plain": [
       "      id   age  hypertension  heart_disease ever_married      work_type  \\\n",
       "0   9046  67.0             0              1          Yes        Private   \n",
       "1  51676  61.0             0              0          Yes  Self-employed   \n",
       "2  31112  80.0             0              1          Yes        Private   \n",
       "3  60182  49.0             0              0          Yes        Private   \n",
       "4   1665  79.0             1              0          Yes  Self-employed   \n",
       "\n",
       "   avg_glucose_level   smoking_status  stroke  \n",
       "0             228.69  formerly smoked       1  \n",
       "1             202.21     never smoked       1  \n",
       "2             105.92     never smoked       1  \n",
       "3             171.23           smokes       1  \n",
       "4             174.12     never smoked       1  "
      ]
     },
     "execution_count": 8,
     "metadata": {},
     "output_type": "execute_result"
    }
   ],
   "source": [
    "df.head()"
   ]
  },
  {
   "cell_type": "code",
   "execution_count": 22,
   "metadata": {},
   "outputs": [
    {
     "data": {
      "image/png": "[encoded data removed]",
      "text/plain": [
       "<Figure size 640x480 with 1 Axes>"
      ]
     },
     "metadata": {},
     "output_type": "display_data"
    }
   ],
   "source": [
    "stroke_counts = df['stroke'].value_counts(normalize=True) * 100\n",
    "\n",
    "# Definindo estilo\n",
    "sns.set_theme(style=\"whitegrid\")\n",
    "\n",
    "sns.barplot(\n",
    "    x=stroke_counts.index,\n",
    "    y=stroke_counts.values,\n",
    "    hue=stroke_counts.index,  # Atribuindo 'x' ao 'hue'\n",
    "    palette='deep',\n",
    "    legend=False  # Desativando a legenda\n",
    ")\n",
    "\n",
    "# Adicionar rótulos e título\n",
    "plt.xlabel('Stroke')\n",
    "plt.ylabel('Percentage')\n",
    "plt.title('Stroke Distribution')\n",
    "\n",
    "for index, value in enumerate(stroke_counts.values):\n",
    "    plt.text(index, value + 1, f'{value:.1f}%', ha='center')\n",
    "\n",
    "plt.show()"
   ]
  },
  {
   "cell_type": "markdown",
   "metadata": {},
   "source": [
    "#### Investigar valores ausentes"
   ]
  },
  {
   "cell_type": "code",
   "execution_count": 23,
   "metadata": {},
   "outputs": [
    {
     "name": "stdout",
     "output_type": "stream",
     "text": [
      "bmi    201\n",
      "dtype: int64\n"
     ]
    }
   ],
   "source": [
    "# Verificar a presença de valores ausentes por coluna\n",
    "valores_ausentes = df.isnull().sum()\n",
    "\n",
    "# Exibir colunas com valores ausentes\n",
    "print(valores_ausentes[valores_ausentes > 0])"
   ]
  },
  {
   "cell_type": "code",
   "execution_count": 25,
   "metadata": {},
   "outputs": [
    {
     "data": {
      "text/plain": [
       "id                   5110\n",
       "gender               5110\n",
       "age                  5110\n",
       "hypertension         5110\n",
       "heart_disease        5110\n",
       "ever_married         5110\n",
       "work_type            5110\n",
       "Residence_type       5110\n",
       "avg_glucose_level    5110\n",
       "bmi                  4909\n",
       "smoking_status       5110\n",
       "stroke               5110\n",
       "dtype: int64"
      ]
     },
     "execution_count": 25,
     "metadata": {},
     "output_type": "execute_result"
    }
   ],
   "source": [
    "df.count()"
   ]
  },
  {
   "cell_type": "code",
   "execution_count": 27,
   "metadata": {},
   "outputs": [
    {
     "data": {
      "text/plain": [
       "np.int64(40)"
      ]
     },
     "execution_count": 27,
     "metadata": {},
     "output_type": "execute_result"
    }
   ],
   "source": [
    "df[df['stroke'] & df['bmi'].isnull()].stroke.count()"
   ]
  },
  {
   "cell_type": "code",
   "execution_count": 28,
   "metadata": {},
   "outputs": [
    {
     "data": {
      "text/plain": [
       "stroke\n",
       "0    4861\n",
       "1     249\n",
       "Name: count, dtype: int64"
      ]
     },
     "execution_count": 28,
     "metadata": {},
     "output_type": "execute_result"
    }
   ],
   "source": [
    "df['stroke'].value_counts()"
   ]
  },
  {
   "cell_type": "markdown",
   "metadata": {},
   "source": [
    "Aos desconsiderar os dados em bmi estaremos perderdendo quase 1/5 dos dados de stroke. Analisar o p valor de BMI, vulgo sua importancia para a classificação de stroke ou não.\n",
    "\n",
    "#### 🔬 2. Estratégias de Análise:\n",
    "\n",
    "Stroke é uma variável binária (0 ou 1):\n",
    "\n",
    "Para variáveis categóricas:\n",
    "        \n",
    "    Teste Qui-quadrado (chi² test)\n",
    "Para variáveis numéricas contínuas: Teste t de Student (t-test) ou Teste de Mann-Whitney se não normal."
   ]
  },
  {
   "cell_type": "code",
   "execution_count": 32,
   "metadata": {},
   "outputs": [
    {
     "name": "stdout",
     "output_type": "stream",
     "text": [
      "          Feature  Chi2 Score       p-value\n",
      "2   heart_disease   87.987436  6.587154e-21\n",
      "1    hypertension   75.449498  3.748736e-18\n",
      "3    ever_married   20.622787  5.592648e-06\n",
      "6  smoking_status    3.369423  6.641702e-02\n",
      "4       work_type    2.925901  8.716857e-02\n",
      "5  Residence_type    0.600717  4.383046e-01\n",
      "0          gender    0.239001  6.249287e-01\n"
     ]
    }
   ],
   "source": [
    "from sklearn.feature_selection import chi2\n",
    "from sklearn.preprocessing import LabelEncoder\n",
    "\n",
    "# Variáveis categóricas\n",
    "cat_cols = ['gender', 'hypertension', 'heart_disease', 'ever_married', \n",
    "            'work_type', 'Residence_type', 'smoking_status']\n",
    "\n",
    "# Converter variáveis categóricas para numéricas\n",
    "df_encoded = df.copy()\n",
    "label_encoder = LabelEncoder()\n",
    "\n",
    "for col in cat_cols:\n",
    "    df_encoded[col] = label_encoder.fit_transform(df_encoded[col].astype(str))\n",
    "\n",
    "# Teste Qui-quadrado\n",
    "chi_scores, p_values = chi2(df_encoded[cat_cols], df_encoded['stroke'])\n",
    "\n",
    "# Resultado em DataFrame\n",
    "result_cat = pd.DataFrame({'Feature': cat_cols, 'Chi2 Score': chi_scores, 'p-value': p_values})\n",
    "print(result_cat.sort_values('p-value'))\n"
   ]
  },
  {
   "cell_type": "markdown",
   "metadata": {},
   "source": [
    "\n",
    "\n",
    "#### 📌 **Interpretação dos Resultados:**\n",
    "\n",
    "- **`heart_disease`** e **`hypertension`** têm valores extremamente altos, indicando forte associação com `stroke`. Essas variáveis são estatisticamente muito significativas (p-valores extremamente baixos).\n",
    "\n",
    "- **`ever_married`** também possui um valor alto, indicando associação significativa com `stroke`, embora não tão forte quanto as anteriores.\n",
    "\n",
    "- **`smoking_status`** e **`work_type`** têm valores indicando uma associação moderada ou fraca com `stroke` (com p-valores próximos do intervalo 0.05–0.1).\n",
    "\n",
    "- **`Residence_type`** e **`gender`** apresentam valores normalizados baixos, indicando que essas variáveis não têm associação estatisticamente significativa com o evento `stroke` (altos p-valores, bem acima do limite padrão de 0.05)."
   ]
  },
  {
   "cell_type": "code",
   "execution_count": 33,
   "metadata": {},
   "outputs": [
    {
     "name": "stdout",
     "output_type": "stream",
     "text": [
      "             Feature     F-Value       P-Value\n",
      "0                age  279.980918  3.655693e-61\n",
      "1  avg_glucose_level   96.585072  1.379969e-22\n",
      "2                bmi    8.826500  2.983269e-03\n"
     ]
    }
   ],
   "source": [
    "import pandas as pd\n",
    "from sklearn.feature_selection import f_classif\n",
    "\n",
    "# Variáveis numéricas\n",
    "num_cols = ['age', 'avg_glucose_level', 'bmi']\n",
    "\n",
    "# Removendo linhas com valores ausentes\n",
    "df_clean = df.dropna(subset=num_cols + ['stroke'])\n",
    "\n",
    "# Aplicando ANOVA (f_classif)\n",
    "f_values, p_values = f_classif(df_clean[num_cols], df_clean['stroke'])\n",
    "\n",
    "# Exibindo resultados em DataFrame\n",
    "results_df = pd.DataFrame({\n",
    "    'Feature': num_cols,\n",
    "    'F-Value': f_values,\n",
    "    'P-Value': p_values\n",
    "}).sort_values('P-Value')\n",
    "\n",
    "print(results_df)"
   ]
  },
  {
   "cell_type": "markdown",
   "metadata": {},
   "source": [
    "#### 📌 **Interpretação dos Resultados:**\n",
    "\n",
    "- **`age` (p ≈ 3.66e-61)**:\n",
    "  - Apresenta um valor extremamente baixo, indicando uma associação muito forte e estatisticamente significativa com o evento `stroke`. Em outras palavras, a idade é um fator altamente relevante na ocorrência do acidente vascular cerebral.\n",
    "\n",
    "- **`avg_glucose_level` (p ≈ 1.38e-22)**:\n",
    "  - Também apresenta uma associação muito forte, com um p-valor extremamente baixo, sugerindo que níveis mais altos de glicose têm forte relevância estatística na ocorrência do `stroke`.\n",
    "\n",
    "- **`bmi` (p ≈ 2.98e-03)**:\n",
    "  - Possui um p-valor baixo (menor que 0.05), indicando uma associação significativa com o `stroke`, embora muito menos intensa do que as variáveis anteriores. A relevância dessa variável é moderada, mas estatisticamente válida.\n",
    "\n",
    "#### 🚩 **Conclusões e Recomendações:**\n",
    "- **`age`** e **`avg_glucose_level`** devem ser consideradas variáveis-chave em qualquer modelo preditivo ou análise exploratória relacionada ao risco de stroke.\n",
    "- **`bmi`**, embora significativa, tem relevância moderada e pode ser incluída, mas não priorizada em comparação com as outras duas variáveis."
   ]
  },
  {
   "cell_type": "markdown",
   "metadata": {},
   "source": [
    "#### Como a associação de BMI é modera vou testar dois caminho:\n",
    "\n",
    "        eliminar a coluna BMI e na outra eliminar somente as rows nulas. Como residencia e genereno não foram fatores determinantes, serão desconsiderados."
   ]
  },
  {
   "cell_type": "markdown",
   "metadata": {},
   "source": [
    "## Parte 2.1 - Primeira abordagem, sem a  coluna BMI"
   ]
  },
  {
   "cell_type": "code",
   "execution_count": 3,
   "metadata": {},
   "outputs": [],
   "source": [
    "df.drop(columns=['bmi','Residence_type', 'gender'], inplace=True)"
   ]
  },
  {
   "cell_type": "code",
   "execution_count": 37,
   "metadata": {},
   "outputs": [
    {
     "data": {
      "text/plain": [
       "Index(['id', 'age', 'hypertension', 'heart_disease', 'ever_married',\n",
       "       'work_type', 'avg_glucose_level', 'smoking_status', 'stroke'],\n",
       "      dtype='object')"
      ]
     },
     "execution_count": 37,
     "metadata": {},
     "output_type": "execute_result"
    }
   ],
   "source": [
    "df.columns"
   ]
  },
  {
   "cell_type": "markdown",
   "metadata": {},
   "source": [
    "### Regreção logistica"
   ]
  },
  {
   "cell_type": "code",
   "execution_count": null,
   "metadata": {},
   "outputs": [
    {
     "name": "stdout",
     "output_type": "stream",
     "text": [
      "Classification Report:\n",
      "              precision    recall  f1-score   support\n",
      "\n",
      "           0       0.94      1.00      0.97      1444\n",
      "           1       0.00      0.00      0.00        89\n",
      "\n",
      "    accuracy                           0.94      1533\n",
      "   macro avg       0.47      0.50      0.49      1533\n",
      "weighted avg       0.89      0.94      0.91      1533\n",
      "\n",
      "Confusion Matrix:\n",
      "[[1444    0]\n",
      " [  89    0]]\n"
     ]
    },
    {
     "name": "stderr",
     "output_type": "stream",
     "text": [
      "/Users/lelefarias/Dev/UFCG CODE/cdp/.venv/lib/python3.13/site-packages/sklearn/metrics/_classification.py:1565: UndefinedMetricWarning: Precision is ill-defined and being set to 0.0 in labels with no predicted samples. Use `zero_division` parameter to control this behavior.\n",
      "  _warn_prf(average, modifier, f\"{metric.capitalize()} is\", len(result))\n",
      "/Users/lelefarias/Dev/UFCG CODE/cdp/.venv/lib/python3.13/site-packages/sklearn/metrics/_classification.py:1565: UndefinedMetricWarning: Precision is ill-defined and being set to 0.0 in labels with no predicted samples. Use `zero_division` parameter to control this behavior.\n",
      "  _warn_prf(average, modifier, f\"{metric.capitalize()} is\", len(result))\n",
      "/Users/lelefarias/Dev/UFCG CODE/cdp/.venv/lib/python3.13/site-packages/sklearn/metrics/_classification.py:1565: UndefinedMetricWarning: Precision is ill-defined and being set to 0.0 in labels with no predicted samples. Use `zero_division` parameter to control this behavior.\n",
      "  _warn_prf(average, modifier, f\"{metric.capitalize()} is\", len(result))\n"
     ]
    }
   ],
   "source": [
    "import pandas as pd\n",
    "from sklearn.model_selection import train_test_split\n",
    "from sklearn.linear_model import LogisticRegression\n",
    "from sklearn.metrics import classification_report, confusion_matrix\n",
    "from sklearn.preprocessing import LabelEncoder, StandardScaler\n",
    "\n",
    "df_clean = df.copy()\n",
    "\n",
    "# Features mais relevantes identificadas anteriormente\n",
    "features = ['age', 'hypertension', 'heart_disease', 'ever_married',\n",
    "       'work_type', 'avg_glucose_level', 'smoking_status']\n",
    "\n",
    "# Codifique variáveis categóricas\n",
    "label_enc = LabelEncoder()\n",
    "df_clean['ever_married'] = label_enc.fit_transform(df_clean['ever_married'])\n",
    "df_clean['hypertension'] = label_enc.fit_transform(df_clean['hypertension'])\n",
    "df_clean['work_type'] = label_enc.fit_transform(df_clean['work_type'])\n",
    "df_clean['smoking_status'] = label_enc.fit_transform(df_clean['smoking_status'])\n",
    "df_clean['heart_disease'] = label_enc.fit_transform(df_clean['heart_disease'])\n",
    "\n",
    "# Defina X e y\n",
    "X = df_clean[features]\n",
    "y = df_clean['stroke']\n",
    "\n",
    "# Padronização das variáveis numéricas\n",
    "scaler = StandardScaler()\n",
    "X.loc[:, ['age', 'avg_glucose_level']] = scaler.fit_transform(X[['age', 'avg_glucose_level']])\n",
    "\n",
    "# Divisão treino/teste (70%-30%)\n",
    "X_train, X_test, y_train, y_test = train_test_split(X, y, test_size=0.3, random_state=42)\n",
    "\n",
    "# Treinar o modelo de regressão logística\n",
    "logreg = LogisticRegression(random_state=42, max_iter=1000)\n",
    "logreg.fit(X_train, y_train)\n",
    "\n",
    "# Fazer predições\n",
    "y_pred = logreg.predict(X_test)\n",
    "\n",
    "# Avaliar o modelo\n",
    "print(\"Classification Report:\")\n",
    "print(classification_report(y_test, y_pred))\n",
    "\n",
    "print(\"Confusion Matrix:\")\n",
    "print(confusion_matrix(y_test, y_pred))\n"
   ]
  },
  {
   "cell_type": "markdown",
   "metadata": {},
   "source": [
    "#### 🔍 **Analisando detalhadamente:**\n",
    "\n",
    "#### ✅ **Matriz de confusão:**\n",
    "|                   | Predito = 0 | Predito = 1 |\n",
    "|-------------------|-------------|-------------|\n",
    "| **Real = 0**      | 1444 (TP ✅)| 0 (FN)      |\n",
    "| **Real = 1**      | 89 (FP ❌)  | 0 (TN ❌)    |\n",
    "\n",
    "- **TP (True Positive)**: Casos negativos corretamente classificados como **não-stroke**: **1444**\n",
    "- **FP (False Positive)**: Casos positivos (**stroke**) classificados erroneamente como **não-stroke**: **89**\n",
    "- O modelo não identificou **nenhum caso positivo (stroke)** corretamente.\n",
    "\n",
    "---\n",
    "\n",
    "#### 📉 **Métricas importantes:**\n",
    "\n",
    "- **Precisão (`precision`)** para classe `stroke = 1`: **0.00**\n",
    "  - O modelo não previu nenhum caso positivo corretamente.\n",
    "\n",
    "- **Recall** para classe `stroke = 1`: **0.00**\n",
    "  - Não detectou nenhum dos casos reais de stroke.\n",
    "\n",
    "- **f1-score** para classe `stroke = 1`: **0.00**\n",
    "  - Consequência das métricas anteriores (nenhuma predição correta).\n",
    "\n",
    "- **Acurácia** geral (**0.94**):  \n",
    "  - Alta, mas enganosa devido ao forte desbalanceamento. O modelo simplesmente prevê que ninguém teve um stroke, acertando a maioria dos casos (não-stroke).\n",
    "\n"
   ]
  },
  {
   "cell_type": "markdown",
   "metadata": {},
   "source": [
    "Agora Balanceada"
   ]
  },
  {
   "cell_type": "code",
   "execution_count": 10,
   "metadata": {},
   "outputs": [
    {
     "name": "stdout",
     "output_type": "stream",
     "text": [
      "Classification Report:\n",
      "              precision    recall  f1-score   support\n",
      "\n",
      "           0       0.98      0.74      0.85      1444\n",
      "           1       0.15      0.74      0.25        89\n",
      "\n",
      "    accuracy                           0.74      1533\n",
      "   macro avg       0.57      0.74      0.55      1533\n",
      "weighted avg       0.93      0.74      0.81      1533\n",
      "\n",
      "Confusion Matrix:\n",
      "[[1074  370]\n",
      " [  23   66]]\n"
     ]
    }
   ],
   "source": [
    "import pandas as pd\n",
    "from sklearn.model_selection import train_test_split\n",
    "from sklearn.linear_model import LogisticRegression\n",
    "from sklearn.metrics import classification_report, confusion_matrix\n",
    "from sklearn.preprocessing import LabelEncoder, StandardScaler\n",
    "\n",
    "df_clean = df.copy()\n",
    "\n",
    "# Features mais relevantes identificadas anteriormente\n",
    "features = ['age', 'hypertension', 'heart_disease', 'ever_married',\n",
    "       'work_type', 'avg_glucose_level', 'smoking_status']\n",
    "\n",
    "# Codifique variáveis categóricas\n",
    "label_enc = LabelEncoder()\n",
    "df_clean['ever_married'] = label_enc.fit_transform(df_clean['ever_married'])\n",
    "df_clean['hypertension'] = label_enc.fit_transform(df_clean['hypertension'])\n",
    "df_clean['work_type'] = label_enc.fit_transform(df_clean['work_type'])\n",
    "df_clean['smoking_status'] = label_enc.fit_transform(df_clean['smoking_status'])\n",
    "df_clean['heart_disease'] = label_enc.fit_transform(df_clean['heart_disease'])\n",
    "\n",
    "# Defina X e y\n",
    "X = df_clean[features]\n",
    "y = df_clean['stroke']\n",
    "\n",
    "# Padronização das variáveis numéricas\n",
    "scaler = StandardScaler()\n",
    "X.loc[:, ['age', 'avg_glucose_level']] = scaler.fit_transform(X[['age', 'avg_glucose_level']])\n",
    "\n",
    "# Divisão treino/teste (70%-30%)\n",
    "X_train, X_test, y_train, y_test = train_test_split(X, y, test_size=0.3, random_state=42)\n",
    "\n",
    "# Treinar o modelo de regressão logística\n",
    "logreg = LogisticRegression(class_weight='balanced', random_state=42, max_iter=1000)\n",
    "logreg.fit(X_train, y_train)\n",
    "\n",
    "# Fazer predições\n",
    "y_pred = logreg.predict(X_test)\n",
    "\n",
    "# Avaliar o modelo\n",
    "print(\"Classification Report:\")\n",
    "print(classification_report(y_test, y_pred))\n",
    "\n",
    "print(\"Confusion Matrix:\")\n",
    "print(confusion_matrix(y_test, y_pred))\n"
   ]
  },
  {
   "cell_type": "markdown",
   "metadata": {},
   "source": [
    "#### ✅ **Matriz de confusão:**\n",
    "|                   | Predito = 0 | Predito = 1 |\n",
    "|-------------------|-------------|-------------|\n",
    "| **Real = 0**      | 1074 (TP ✅)| 370 (FP ❌)  |\n",
    "| **Real = 1**      | 23 (FN ❌)  | 66 (TN ✅)   |\n",
    "\n",
    "\n",
    "O balanceamento não resolve o problema"
   ]
  },
  {
   "cell_type": "markdown",
   "metadata": {},
   "source": [
    "### Árvore de decisão"
   ]
  },
  {
   "cell_type": "code",
   "execution_count": 43,
   "metadata": {},
   "outputs": [
    {
     "name": "stdout",
     "output_type": "stream",
     "text": [
      "Classification Report:\n",
      "               precision    recall  f1-score   support\n",
      "\n",
      "           0       0.96      0.95      0.95      1458\n",
      "           1       0.17      0.20      0.18        75\n",
      "\n",
      "    accuracy                           0.91      1533\n",
      "   macro avg       0.56      0.57      0.57      1533\n",
      "weighted avg       0.92      0.91      0.92      1533\n",
      "\n",
      "Confusion Matrix:\n",
      " [[1385   73]\n",
      " [  60   15]]\n"
     ]
    }
   ],
   "source": [
    "import pandas as pd\n",
    "from sklearn.model_selection import train_test_split\n",
    "from sklearn.tree import DecisionTreeClassifier\n",
    "from sklearn.metrics import classification_report, confusion_matrix\n",
    "from sklearn.preprocessing import LabelEncoder, StandardScaler\n",
    "\n",
    "df_clean = df.copy()\n",
    "\n",
    "# Selecionando features importantes\n",
    "features = ['age', 'hypertension', 'heart_disease', 'ever_married',\n",
    "       'work_type', 'avg_glucose_level', 'smoking_status']\n",
    "\n",
    "# Codificando variáveis categóricas\n",
    "label_enc = LabelEncoder()\n",
    "df_clean['ever_married'] = label_enc.fit_transform(df_clean['ever_married'])\n",
    "df_clean['hypertension'] = label_enc.fit_transform(df_clean['hypertension'])\n",
    "df_clean['work_type'] = label_enc.fit_transform(df_clean['work_type'])\n",
    "df_clean['smoking_status'] = label_enc.fit_transform(df_clean['smoking_status'])\n",
    "df_clean['heart_disease'] = label_enc.fit_transform(df_clean['heart_disease'])\n",
    "\n",
    "# Definindo X e y\n",
    "X = df_clean[features]\n",
    "y = df_clean['stroke']\n",
    "\n",
    "# Padronização das variáveis numéricas\n",
    "scaler = StandardScaler()\n",
    "X.loc[:, ['age', 'avg_glucose_level']] = scaler.fit_transform(X[['age', 'avg_glucose_level']])\n",
    "\n",
    "# Divisão treino/teste\n",
    "X_train, X_test, y_train, y_test = train_test_split(\n",
    "    X, y, test_size=0.3, random_state=42, stratify=y)\n",
    "\n",
    "# Treinando a árvore de decisão (com balanceamento de classes)\n",
    "dtree = DecisionTreeClassifier(random_state=42, class_weight='balanced')\n",
    "dtree.fit(X_train, y_train)\n",
    "\n",
    "# Realizando as predições\n",
    "y_pred = dtree.predict(X_test)\n",
    "\n",
    "# Avaliando o modelo\n",
    "print(\"Classification Report:\\n\", classification_report(y_test, y_pred))\n",
    "print(\"Confusion Matrix:\\n\", confusion_matrix(y_test, y_pred))\n"
   ]
  },
  {
   "cell_type": "markdown",
   "metadata": {},
   "source": [
    "#### ✅ **Matriz de confusão:**\n",
    "|                   | Predito = 0 | Predito = 1 |\n",
    "|-------------------|-------------|-------------|\n",
    "| **Real = 0**      | 1385 (TP ✅)| 73 (FP ❌)     |\n",
    "| **Real = 1**      | 60 (FP ❌)  | 15 (TN ✅)    |"
   ]
  },
  {
   "cell_type": "markdown",
   "metadata": {},
   "source": [
    "### KNN"
   ]
  },
  {
   "cell_type": "code",
   "execution_count": 4,
   "metadata": {},
   "outputs": [
    {
     "name": "stdout",
     "output_type": "stream",
     "text": [
      "Classification Report (KNN):\n",
      "               precision    recall  f1-score   support\n",
      "\n",
      "           0       0.95      0.99      0.97      1458\n",
      "           1       0.29      0.07      0.11        75\n",
      "\n",
      "    accuracy                           0.95      1533\n",
      "   macro avg       0.62      0.53      0.54      1533\n",
      "weighted avg       0.92      0.95      0.93      1533\n",
      "\n",
      "Confusion Matrix (KNN):\n",
      " [[1446   12]\n",
      " [  70    5]]\n"
     ]
    }
   ],
   "source": [
    "from sklearn.neighbors import KNeighborsClassifier\n",
    "from sklearn.model_selection import train_test_split\n",
    "from sklearn.metrics import classification_report, confusion_matrix\n",
    "from sklearn.preprocessing import LabelEncoder, StandardScaler\n",
    "\n",
    "df_clean = df.copy()\n",
    "\n",
    "# Selecionando features importantes\n",
    "features = ['age', 'hypertension', 'heart_disease', 'ever_married',\n",
    "       'work_type', 'avg_glucose_level', 'smoking_status']\n",
    "\n",
    "# Codificando variáveis categóricas\n",
    "label_enc = LabelEncoder()\n",
    "df_clean['ever_married'] = label_enc.fit_transform(df_clean['ever_married'])\n",
    "df_clean['hypertension'] = label_enc.fit_transform(df_clean['hypertension'])\n",
    "df_clean['work_type'] = label_enc.fit_transform(df_clean['work_type'])\n",
    "df_clean['smoking_status'] = label_enc.fit_transform(df_clean['smoking_status'])\n",
    "df_clean['heart_disease'] = label_enc.fit_transform(df_clean['heart_disease'])\n",
    "\n",
    "# Definindo X e y\n",
    "X = df_clean[features]\n",
    "y = df_clean['stroke']\n",
    "\n",
    "# Padronização das variáveis numéricas\n",
    "scaler = StandardScaler()\n",
    "X.loc[:, ['age', 'avg_glucose_level']] = scaler.fit_transform(X[['age', 'avg_glucose_level']])\n",
    "\n",
    "# Divisão treino/teste\n",
    "X_train, X_test, y_train, y_test = train_test_split(\n",
    "    X, y, test_size=0.3, random_state=42, stratify=y)\n",
    "\n",
    "# Treinando o modelo KNN\n",
    "knn = KNeighborsClassifier(n_neighbors=5)  # você pode ajustar o valor de k (n_neighbors)\n",
    "knn.fit(X_train, y_train)\n",
    "\n",
    "# Realizando as predições\n",
    "y_pred_knn = knn.predict(X_test)\n",
    "\n",
    "# Avaliando o modelo\n",
    "print(\"Classification Report (KNN):\\n\", classification_report(y_test, y_pred_knn))\n",
    "print(\"Confusion Matrix (KNN):\\n\", confusion_matrix(y_test, y_pred_knn))\n"
   ]
  },
  {
   "cell_type": "markdown",
   "metadata": {},
   "source": [
    "#### ✅ **Matriz de confusão:**\n",
    "|                   | Predito = 0 | Predito = 1 |\n",
    "|-------------------|-------------|-------------|\n",
    "| **Real = 0**      | 1446 (TP ✅)| 12 (FP ❌)     |\n",
    "| **Real = 1**      | 70 (FP ❌)  | 5 (TN ✅)    |"
   ]
  },
  {
   "cell_type": "markdown",
   "metadata": {},
   "source": [
    "## Parte 2.2 - Segunda abordagem, com coluna BMI "
   ]
  },
  {
   "cell_type": "markdown",
   "metadata": {},
   "source": [
    "### Regreção logistica"
   ]
  },
  {
   "cell_type": "code",
   "execution_count": 6,
   "metadata": {},
   "outputs": [
    {
     "name": "stdout",
     "output_type": "stream",
     "text": [
      "Classification Report:\n",
      "              precision    recall  f1-score   support\n",
      "\n",
      "           0       0.95      1.00      0.97      1401\n",
      "           1       0.00      0.00      0.00        72\n",
      "\n",
      "    accuracy                           0.95      1473\n",
      "   macro avg       0.48      0.50      0.49      1473\n",
      "weighted avg       0.90      0.95      0.93      1473\n",
      "\n",
      "Confusion Matrix:\n",
      "[[1401    0]\n",
      " [  72    0]]\n"
     ]
    },
    {
     "name": "stderr",
     "output_type": "stream",
     "text": [
      "/opt/homebrew/lib/python3.11/site-packages/sklearn/metrics/_classification.py:1509: UndefinedMetricWarning: Precision is ill-defined and being set to 0.0 in labels with no predicted samples. Use `zero_division` parameter to control this behavior.\n",
      "  _warn_prf(average, modifier, f\"{metric.capitalize()} is\", len(result))\n",
      "/opt/homebrew/lib/python3.11/site-packages/sklearn/metrics/_classification.py:1509: UndefinedMetricWarning: Precision is ill-defined and being set to 0.0 in labels with no predicted samples. Use `zero_division` parameter to control this behavior.\n",
      "  _warn_prf(average, modifier, f\"{metric.capitalize()} is\", len(result))\n",
      "/opt/homebrew/lib/python3.11/site-packages/sklearn/metrics/_classification.py:1509: UndefinedMetricWarning: Precision is ill-defined and being set to 0.0 in labels with no predicted samples. Use `zero_division` parameter to control this behavior.\n",
      "  _warn_prf(average, modifier, f\"{metric.capitalize()} is\", len(result))\n"
     ]
    }
   ],
   "source": [
    "import pandas as pd\n",
    "from sklearn.model_selection import train_test_split\n",
    "from sklearn.linear_model import LogisticRegression\n",
    "from sklearn.metrics import classification_report, confusion_matrix\n",
    "from sklearn.preprocessing import LabelEncoder, StandardScaler\n",
    "\n",
    "df = pd.read_csv(\"healthcare-dataset-stroke-data.csv\", encoding='latin1')\n",
    "df_clean = df.copy().dropna()\n",
    "\n",
    "# Features mais relevantes identificadas anteriormente\n",
    "features = ['age', 'bmi', 'hypertension', 'heart_disease', 'ever_married',\n",
    "       'work_type', 'avg_glucose_level', 'smoking_status']\n",
    "\n",
    "# Codifique variáveis categóricas\n",
    "label_enc = LabelEncoder()\n",
    "df_clean['ever_married'] = label_enc.fit_transform(df_clean['ever_married'])\n",
    "df_clean['hypertension'] = label_enc.fit_transform(df_clean['hypertension'])\n",
    "df_clean['work_type'] = label_enc.fit_transform(df_clean['work_type'])\n",
    "df_clean['smoking_status'] = label_enc.fit_transform(df_clean['smoking_status'])\n",
    "df_clean['heart_disease'] = label_enc.fit_transform(df_clean['heart_disease'])\n",
    "\n",
    "# Defina X e y\n",
    "X = df_clean[features]\n",
    "y = df_clean['stroke']\n",
    "\n",
    "# Padronização das variáveis numéricas\n",
    "scaler = StandardScaler()\n",
    "X.loc[:, ['age', 'avg_glucose_level']] = scaler.fit_transform(X[['age', 'avg_glucose_level']])\n",
    "\n",
    "# Divisão treino/teste (70%-30%)\n",
    "X_train, X_test, y_train, y_test = train_test_split(X, y, test_size=0.3, random_state=42)\n",
    "\n",
    "# Treinar o modelo de regressão logística\n",
    "logreg = LogisticRegression(random_state=42, max_iter=1000)\n",
    "logreg.fit(X_train, y_train)\n",
    "\n",
    "# Fazer predições\n",
    "y_pred = logreg.predict(X_test)\n",
    "\n",
    "# Avaliar o modelo\n",
    "print(\"Classification Report:\")\n",
    "print(classification_report(y_test, y_pred))\n",
    "\n",
    "print(\"Confusion Matrix:\")\n",
    "print(confusion_matrix(y_test, y_pred))\n"
   ]
  },
  {
   "cell_type": "markdown",
   "metadata": {},
   "source": [
    "#### 🔍 **Analisando detalhadamente:**\n",
    "\n",
    "#### ✅ **Matriz de confusão:**\n",
    "|                   | Predito = 0 | Predito = 1 |\n",
    "|-------------------|-------------|-------------|\n",
    "| **Real = 0**      | 1401 (TP ✅)| 0 (FN)      |\n",
    "| **Real = 1**      | 72 (FP ❌)  | 0 (TN ❌)    |\n",
    "\n",
    "\n",
    "- Resultados similires sem a coluna BMI, um modelo não confiavel que prediz 0 para maioria dos casos"
   ]
  },
  {
   "cell_type": "markdown",
   "metadata": {},
   "source": [
    "Agora Balanceada"
   ]
  },
  {
   "cell_type": "code",
   "execution_count": 11,
   "metadata": {},
   "outputs": [
    {
     "name": "stdout",
     "output_type": "stream",
     "text": [
      "Classification Report:\n",
      "              precision    recall  f1-score   support\n",
      "\n",
      "           0       0.99      0.73      0.84      1401\n",
      "           1       0.14      0.86      0.24        72\n",
      "\n",
      "    accuracy                           0.74      1473\n",
      "   macro avg       0.57      0.80      0.54      1473\n",
      "weighted avg       0.95      0.74      0.81      1473\n",
      "\n",
      "Confusion Matrix:\n",
      "[[1024  377]\n",
      " [  10   62]]\n"
     ]
    }
   ],
   "source": [
    "import pandas as pd\n",
    "from sklearn.model_selection import train_test_split\n",
    "from sklearn.linear_model import LogisticRegression\n",
    "from sklearn.metrics import classification_report, confusion_matrix\n",
    "from sklearn.preprocessing import LabelEncoder, StandardScaler\n",
    "\n",
    "df = pd.read_csv(\"healthcare-dataset-stroke-data.csv\", encoding='latin1')\n",
    "df_clean = df.copy().dropna()\n",
    "\n",
    "# Features mais relevantes identificadas anteriormente\n",
    "features = ['age', 'bmi', 'hypertension', 'heart_disease', 'ever_married',\n",
    "       'work_type', 'avg_glucose_level', 'smoking_status']\n",
    "\n",
    "# Codifique variáveis categóricas\n",
    "label_enc = LabelEncoder()\n",
    "df_clean['ever_married'] = label_enc.fit_transform(df_clean['ever_married'])\n",
    "df_clean['hypertension'] = label_enc.fit_transform(df_clean['hypertension'])\n",
    "df_clean['work_type'] = label_enc.fit_transform(df_clean['work_type'])\n",
    "df_clean['smoking_status'] = label_enc.fit_transform(df_clean['smoking_status'])\n",
    "df_clean['heart_disease'] = label_enc.fit_transform(df_clean['heart_disease'])\n",
    "\n",
    "# Defina X e y\n",
    "X = df_clean[features]\n",
    "y = df_clean['stroke']\n",
    "\n",
    "# Padronização das variáveis numéricas\n",
    "scaler = StandardScaler()\n",
    "X.loc[:, ['age', 'avg_glucose_level']] = scaler.fit_transform(X[['age', 'avg_glucose_level']])\n",
    "\n",
    "# Divisão treino/teste (70%-30%)\n",
    "X_train, X_test, y_train, y_test = train_test_split(X, y, test_size=0.3, random_state=42)\n",
    "\n",
    "# Treinar o modelo de regressão logística\n",
    "logreg = LogisticRegression(class_weight='balanced', random_state=42, max_iter=1000)\n",
    "logreg.fit(X_train, y_train)\n",
    "\n",
    "# Fazer predições\n",
    "y_pred = logreg.predict(X_test)\n",
    "\n",
    "# Avaliar o modelo\n",
    "print(\"Classification Report:\")\n",
    "print(classification_report(y_test, y_pred))\n",
    "\n",
    "print(\"Confusion Matrix:\")\n",
    "print(confusion_matrix(y_test, y_pred))\n"
   ]
  },
  {
   "cell_type": "markdown",
   "metadata": {},
   "source": [
    "#### ✅ **Matriz de confusão:**\n",
    "|                   | Predito = 0 | Predito = 1 |\n",
    "|-------------------|-------------|-------------|\n",
    "| **Real = 0**      | 1024 (TP ✅)| 377 (FP❌)     |\n",
    "| **Real = 1**      | 10 (FN ❌)  | 62 (TN ✅)    |\n",
    "\n",
    "\n",
    "modelo se tornou mais confiavel, agora não presume que todos são não stroke, porem ainda apresenta metricas muito baixas para valor 1, stroke"
   ]
  },
  {
   "cell_type": "markdown",
   "metadata": {},
   "source": [
    "### Árvore de decisão"
   ]
  },
  {
   "cell_type": "code",
   "execution_count": 12,
   "metadata": {},
   "outputs": [
    {
     "name": "stdout",
     "output_type": "stream",
     "text": [
      "Classification Report:\n",
      "               precision    recall  f1-score   support\n",
      "\n",
      "           0       0.96      0.96      0.96      1410\n",
      "           1       0.09      0.08      0.08        63\n",
      "\n",
      "    accuracy                           0.93      1473\n",
      "   macro avg       0.52      0.52      0.52      1473\n",
      "weighted avg       0.92      0.93      0.92      1473\n",
      "\n",
      "Confusion Matrix:\n",
      " [[1359   51]\n",
      " [  58    5]]\n"
     ]
    }
   ],
   "source": [
    "import pandas as pd\n",
    "from sklearn.model_selection import train_test_split\n",
    "from sklearn.tree import DecisionTreeClassifier\n",
    "from sklearn.metrics import classification_report, confusion_matrix\n",
    "from sklearn.preprocessing import LabelEncoder, StandardScaler\n",
    "\n",
    "df = pd.read_csv(\"healthcare-dataset-stroke-data.csv\", encoding='latin1')\n",
    "df_clean = df.copy().dropna()\n",
    "\n",
    "# Selecionando features importantes\n",
    "features = ['age', 'bmi', 'hypertension', 'heart_disease', 'ever_married',\n",
    "       'work_type', 'avg_glucose_level', 'smoking_status']\n",
    "\n",
    "# Codificando variáveis categóricas\n",
    "label_enc = LabelEncoder()\n",
    "df_clean['ever_married'] = label_enc.fit_transform(df_clean['ever_married'])\n",
    "df_clean['hypertension'] = label_enc.fit_transform(df_clean['hypertension'])\n",
    "df_clean['work_type'] = label_enc.fit_transform(df_clean['work_type'])\n",
    "df_clean['smoking_status'] = label_enc.fit_transform(df_clean['smoking_status'])\n",
    "df_clean['heart_disease'] = label_enc.fit_transform(df_clean['heart_disease'])\n",
    "\n",
    "# Definindo X e y\n",
    "X = df_clean[features]\n",
    "y = df_clean['stroke']\n",
    "\n",
    "# Padronização das variáveis numéricas\n",
    "scaler = StandardScaler()\n",
    "X.loc[:, ['age', 'avg_glucose_level']] = scaler.fit_transform(X[['age', 'avg_glucose_level']])\n",
    "\n",
    "# Divisão treino/teste\n",
    "X_train, X_test, y_train, y_test = train_test_split(\n",
    "    X, y, test_size=0.3, random_state=42, stratify=y)\n",
    "\n",
    "# Treinando a árvore de decisão (com balanceamento de classes)\n",
    "dtree = DecisionTreeClassifier(random_state=42, class_weight='balanced')\n",
    "dtree.fit(X_train, y_train)\n",
    "\n",
    "# Realizando as predições\n",
    "y_pred = dtree.predict(X_test)\n",
    "\n",
    "# Avaliando o modelo\n",
    "print(\"Classification Report:\\n\", classification_report(y_test, y_pred))\n",
    "print(\"Confusion Matrix:\\n\", confusion_matrix(y_test, y_pred))\n"
   ]
  },
  {
   "cell_type": "markdown",
   "metadata": {},
   "source": [
    "#### ✅ **Matriz de confusão:**\n",
    "|                   | Predito = 0 | Predito = 1 |\n",
    "|-------------------|-------------|-------------|\n",
    "| **Real = 0**      | 1359 (TP ✅)| 51 (FP ❌)     |\n",
    "| **Real = 1**      | 58 (Fn ❌)  |  5 (TN ✅)    |\n",
    "\n",
    "mesmo com uma coluna a mais BMI, ter menos dados classificados como STROKE piorou a perfomae do modelo de Arvore de decisão"
   ]
  },
  {
   "cell_type": "markdown",
   "metadata": {},
   "source": [
    "### KNN"
   ]
  },
  {
   "cell_type": "code",
   "execution_count": 13,
   "metadata": {},
   "outputs": [
    {
     "name": "stdout",
     "output_type": "stream",
     "text": [
      "Classification Report (KNN):\n",
      "               precision    recall  f1-score   support\n",
      "\n",
      "           0       0.96      1.00      0.98      1410\n",
      "           1       0.00      0.00      0.00        63\n",
      "\n",
      "    accuracy                           0.96      1473\n",
      "   macro avg       0.48      0.50      0.49      1473\n",
      "weighted avg       0.92      0.96      0.94      1473\n",
      "\n",
      "Confusion Matrix (KNN):\n",
      " [[1408    2]\n",
      " [  63    0]]\n"
     ]
    }
   ],
   "source": [
    "from sklearn.neighbors import KNeighborsClassifier\n",
    "from sklearn.model_selection import train_test_split\n",
    "from sklearn.metrics import classification_report, confusion_matrix\n",
    "from sklearn.preprocessing import LabelEncoder, StandardScaler\n",
    "\n",
    "df = pd.read_csv(\"healthcare-dataset-stroke-data.csv\", encoding='latin1')\n",
    "df_clean = df.copy().dropna()\n",
    "\n",
    "# Selecionando features importantes\n",
    "features = ['age', 'bmi', 'hypertension', 'heart_disease', 'ever_married',\n",
    "       'work_type', 'avg_glucose_level', 'smoking_status']\n",
    "\n",
    "# Codificando variáveis categóricas\n",
    "label_enc = LabelEncoder()\n",
    "df_clean['ever_married'] = label_enc.fit_transform(df_clean['ever_married'])\n",
    "df_clean['hypertension'] = label_enc.fit_transform(df_clean['hypertension'])\n",
    "df_clean['work_type'] = label_enc.fit_transform(df_clean['work_type'])\n",
    "df_clean['smoking_status'] = label_enc.fit_transform(df_clean['smoking_status'])\n",
    "df_clean['heart_disease'] = label_enc.fit_transform(df_clean['heart_disease'])\n",
    "\n",
    "# Definindo X e y\n",
    "X = df_clean[features]\n",
    "y = df_clean['stroke']\n",
    "\n",
    "# Padronização das variáveis numéricas\n",
    "scaler = StandardScaler()\n",
    "X.loc[:, ['age', 'avg_glucose_level']] = scaler.fit_transform(X[['age', 'avg_glucose_level']])\n",
    "\n",
    "# Divisão treino/teste\n",
    "X_train, X_test, y_train, y_test = train_test_split(\n",
    "    X, y, test_size=0.3, random_state=42, stratify=y)\n",
    "\n",
    "# Treinando o modelo KNN\n",
    "knn = KNeighborsClassifier(n_neighbors=5)  # você pode ajustar o valor de k (n_neighbors)\n",
    "knn.fit(X_train, y_train)\n",
    "\n",
    "# Realizando as predições\n",
    "y_pred_knn = knn.predict(X_test)\n",
    "\n",
    "# Avaliando o modelo\n",
    "print(\"Classification Report (KNN):\\n\", classification_report(y_test, y_pred_knn))\n",
    "print(\"Confusion Matrix (KNN):\\n\", confusion_matrix(y_test, y_pred_knn))\n"
   ]
  },
  {
   "cell_type": "markdown",
   "metadata": {},
   "source": [
    "\n",
    "## ✅🔍 **1. Regressão Logística**\n",
    "\n",
    "### ✔️ Vantagens:\n",
    "- **Interpretação clara e direta**:\n",
    "  - Você pode ver os coeficientes e entender o impacto de cada feature.\n",
    "- **Rápida e eficiente em datasets pequenos/médios**.\n",
    "- **Fácil de regularizar** (`L1`, `L2`) e balancear (`class_weight='balanced'`).\n",
    "- Funciona bem quando a relação entre variáveis é **linear**.\n",
    "- **Boa base de comparação** para outros modelos.\n",
    "\n",
    "### ❌ Limitações:\n",
    "- **Assume linearidade** entre variáveis e a saída — pode não capturar bem padrões complexos.\n",
    "- **Desempenho limitado em problemas não lineares ou com muitas interações entre features**.\n",
    "- Sensível à **multicolinearidade** (features altamente correlacionadas).\n",
    "- Pode **subestimar** relações sutis ou não lineares presentes nos dados.\n",
    "\n",
    "---\n",
    "\n",
    "## 🧊📍 **2. KNN (K-Nearest Neighbors)**\n",
    "\n",
    "### ✔️ Vantagens:\n",
    "- **Modelo não-paramétrico**: não faz suposições sobre a distribuição dos dados.\n",
    "- Simples de implementar e entender.\n",
    "- **Capta relações não lineares** de forma natural.\n",
    "- Pode ser poderoso se os dados forem bem separados e normalizados.\n",
    "\n",
    "### ❌ Limitações:\n",
    "- **Muito sensível ao desbalanceamento** de classes (como no seu caso!).\n",
    "- **Desempenho ruim com dados esparsos ou com muito ruído**.\n",
    "- **Muito custo computacional** em datasets grandes (precisa calcular distância para todos os pontos).\n",
    "- Resultado depende **fortemente da escolha de K e da métrica de distância**.\n",
    "- Difícil de interpretar **por que** uma previsão foi feita (modelo de “caixa preta”).\n",
    "\n",
    "---\n",
    "\n",
    "## 🌳📊 **3. Decision Tree (Árvore de Decisão)**\n",
    "\n",
    "### ✔️ Vantagens:\n",
    "- **Interpretação visual e lógica fácil**: é possível \"seguir o caminho\" da árvore.\n",
    "- **Captura bem relações não lineares e interações entre variáveis**.\n",
    "- Funciona bem com dados mistos (numéricos e categóricos).\n",
    "- Não requer normalização dos dados.\n",
    "- **Pode lidar melhor com features irrelevantes ou redundantes** (via poda).\n",
    "\n",
    "### ❌ Limitações:\n",
    "- **Tende a overfitting**, especialmente com árvores profundas e sem poda.\n",
    "- Sensível a **pequenas variações nos dados** (pode mudar bastante com dados levemente diferentes).\n",
    "- Sozinha, **tem dificuldade com dados desbalanceados**, como mostrado no seu caso.\n",
    "- Pode criar **limites de decisão pouco suaves**, que não generalizam bem.\n",
    "\n",
    "---\n",
    "\n",
    "## 🧠 **Resumo Comparativo:\n",
    "\n",
    "| Modelo             | Interpretação | Tolerância a Desbalanceamento | Não-linearidade | Overfitting | Desempenho observado |\n",
    "|--------------------|---------------|-------------------------------|-----------------|-------------|----------------------|\n",
    "| Regressão Logística | ✅ Alta       | ✅ Sim (com `balanced`)       | ❌ Não           | 🔘 Baixo     | **Melhor F1**        |\n",
    "| KNN                | ❌ Baixa       | ❌ Ruim (sofre muito)         | ✅ Sim           | 🔘 Médio     | Baixo recall classe 1 |\n",
    "| Decision Tree      | 🔘 Média       | ❌ Limitada (sem ajuste)      | ✅ Sim           | ✅ Alto      | Recall fraco, possível overfitting |\n"
   ]
  },
  {
   "cell_type": "markdown",
   "metadata": {},
   "source": [
    "## Parte 3 - Ensemble Learning\n",
    "\n",
    "- pelos resultados anteriores preferi ter mais dados de STROKE e retirar a coluna BMI para lidar com os nulos"
   ]
  },
  {
   "cell_type": "markdown",
   "metadata": {},
   "source": [
    "### Random Forest"
   ]
  },
  {
   "cell_type": "code",
   "execution_count": null,
   "metadata": {},
   "outputs": [
    {
     "name": "stdout",
     "output_type": "stream",
     "text": [
      "Classification Report:\n",
      "              precision    recall  f1-score   support\n",
      "\n",
      "           0       0.94      0.99      0.97      1444\n",
      "           1       0.18      0.02      0.04        89\n",
      "\n",
      "    accuracy                           0.94      1533\n",
      "   macro avg       0.56      0.51      0.50      1533\n",
      "weighted avg       0.90      0.94      0.91      1533\n",
      "\n",
      "Confusion Matrix:\n",
      "[[1435    9]\n",
      " [  87    2]]\n"
     ]
    }
   ],
   "source": [
    "from sklearn.ensemble import RandomForestClassifier\n",
    "import pandas as pd\n",
    "from sklearn.model_selection import train_test_split\n",
    "from sklearn.linear_model import LogisticRegression\n",
    "from sklearn.metrics import classification_report, confusion_matrix\n",
    "from sklearn.preprocessing import LabelEncoder, StandardScaler\n",
    "\n",
    "df_clean = df.copy()\n",
    "\n",
    "# Selecionando features importantes\n",
    "features = ['age', 'hypertension', 'heart_disease', 'ever_married',\n",
    "       'work_type', 'avg_glucose_level', 'smoking_status']\n",
    "\n",
    "# Codifique variáveis categóricas\n",
    "label_enc = LabelEncoder()\n",
    "df_clean['ever_married'] = label_enc.fit_transform(df_clean['ever_married'])\n",
    "df_clean['hypertension'] = label_enc.fit_transform(df_clean['hypertension'])\n",
    "df_clean['work_type'] = label_enc.fit_transform(df_clean['work_type'])\n",
    "df_clean['smoking_status'] = label_enc.fit_transform(df_clean['smoking_status'])\n",
    "df_clean['heart_disease'] = label_enc.fit_transform(df_clean['heart_disease'])\n",
    "\n",
    "# Defina X e y\n",
    "X = df_clean[features]\n",
    "y = df_clean['stroke']\n",
    "\n",
    "# Padronização das variáveis numéricas\n",
    "scaler = StandardScaler()\n",
    "X.loc[:, ['age', 'avg_glucose_level']] = scaler.fit_transform(X[['age', 'avg_glucose_level']])\n",
    "\n",
    "# Divisão treino/teste (70%-30%)\n",
    "X_train, X_test, y_train, y_test = train_test_split(X, y, test_size=0.3, random_state=42)\n",
    "\n",
    "# Treinar o modelo de regressão logística\n",
    "model = RandomForestClassifier(class_weight='balanced', random_state=42)\n",
    "model.fit(X_train, y_train)\n",
    "\n",
    "y_pred = model.predict(X_test)\n",
    "\n",
    "# Avaliar o modelo\n",
    "print(\"Classification Report:\")\n",
    "print(classification_report(y_test, y_pred))\n",
    "\n",
    "print(\"Confusion Matrix:\")\n",
    "print(confusion_matrix(y_test, y_pred))"
   ]
  },
  {
   "cell_type": "markdown",
   "metadata": {},
   "source": [
    "### Adaboost"
   ]
  },
  {
   "cell_type": "code",
   "execution_count": 7,
   "metadata": {},
   "outputs": [
    {
     "name": "stdout",
     "output_type": "stream",
     "text": [
      "Classification Report (AdaBoost):\n",
      "               precision    recall  f1-score   support\n",
      "\n",
      "           0       0.99      0.57      0.72      1458\n",
      "           1       0.09      0.87      0.17        75\n",
      "\n",
      "    accuracy                           0.59      1533\n",
      "   macro avg       0.54      0.72      0.45      1533\n",
      "weighted avg       0.94      0.59      0.70      1533\n",
      "\n",
      "Confusion Matrix (AdaBoost):\n",
      " [[834 624]\n",
      " [ 10  65]]\n"
     ]
    },
    {
     "name": "stderr",
     "output_type": "stream",
     "text": [
      "/var/folders/hr/0brpjq8x195496zt0bkvsnrw0000gn/T/ipykernel_96085/1258302296.py:28: SettingWithCopyWarning: \n",
      "A value is trying to be set on a copy of a slice from a DataFrame.\n",
      "Try using .loc[row_indexer,col_indexer] = value instead\n",
      "\n",
      "See the caveats in the documentation: https://pandas.pydata.org/pandas-docs/stable/user_guide/indexing.html#returning-a-view-versus-a-copy\n",
      "  X[['age', 'avg_glucose_level']] = scaler.fit_transform(X[['age', 'avg_glucose_level']])\n"
     ]
    }
   ],
   "source": [
    "import pandas as pd\n",
    "from sklearn.model_selection import train_test_split\n",
    "from sklearn.preprocessing import LabelEncoder, StandardScaler\n",
    "from sklearn.ensemble import AdaBoostClassifier\n",
    "from sklearn.tree import DecisionTreeClassifier\n",
    "from sklearn.metrics import classification_report, confusion_matrix\n",
    "\n",
    "# Copiando e preparando os dados\n",
    "df_clean = df.copy()\n",
    "\n",
    "features = ['age', 'hypertension', 'heart_disease', 'ever_married',\n",
    "            'work_type', 'avg_glucose_level', 'smoking_status']\n",
    "\n",
    "# Codificação de variáveis categóricas\n",
    "label_enc = LabelEncoder()\n",
    "df_clean['ever_married'] = label_enc.fit_transform(df_clean['ever_married'])\n",
    "df_clean['hypertension'] = label_enc.fit_transform(df_clean['hypertension'])\n",
    "df_clean['work_type'] = label_enc.fit_transform(df_clean['work_type'])\n",
    "df_clean['smoking_status'] = label_enc.fit_transform(df_clean['smoking_status'])\n",
    "df_clean['heart_disease'] = label_enc.fit_transform(df_clean['heart_disease'])\n",
    "\n",
    "# Separando X e y\n",
    "X = df_clean[features]\n",
    "y = df_clean['stroke']\n",
    "\n",
    "# Padronizando variáveis numéricas\n",
    "scaler = StandardScaler()\n",
    "X[['age', 'avg_glucose_level']] = scaler.fit_transform(X[['age', 'avg_glucose_level']])\n",
    "\n",
    "# Divisão treino/teste\n",
    "X_train, X_test, y_train, y_test = train_test_split(\n",
    "    X, y, test_size=0.3, random_state=42, stratify=y)\n",
    "\n",
    "# Criando um modelo base (stump) e aplicando AdaBoost\n",
    "base_model = DecisionTreeClassifier(max_depth=1, class_weight='balanced')  # \"stump\" com balanceamento\n",
    "ada_model = AdaBoostClassifier(estimator=base_model, n_estimators=100, random_state=42)\n",
    "ada_model.fit(X_train, y_train)\n",
    "\n",
    "# Predição e avaliação\n",
    "y_pred_ada = ada_model.predict(X_test)\n",
    "\n",
    "print(\"Classification Report (AdaBoost):\\n\", classification_report(y_test, y_pred_ada))\n",
    "print(\"Confusion Matrix (AdaBoost):\\n\", confusion_matrix(y_test, y_pred_ada))"
   ]
  },
  {
   "cell_type": "markdown",
   "metadata": {},
   "source": [
    "comparação entre modelos feita em tabela a seguir."
   ]
  },
  {
   "cell_type": "markdown",
   "metadata": {},
   "source": [
    "## Parte 4 - Análise Comparativa e Discussão\n",
    "\n",
    "\n",
    "### 📊 **Tabela Comparativa dos Modelos**\n",
    "\n",
    "| Modelo                 | Acurácia | Precision (Classe 1)   | Recall (Classe 1)   | F1-Score (Classe 1) |\n",
    "|------------------      |----------|------------------------|---------------------|----------------------|\n",
    "| **Regreção log (balanced)**| **0.74**     | 0.15                   | **0.74**                | **0.25**                 |\n",
    "| Decision Tree          | 0.91     | 0.17                   | 0.20                | 0.18                 |\n",
    "| KNN                    | 0.95     | 0.29                   | 0.07                | 0.11                 |\n",
    "| **AdaBoost**           | 0.59     | 0.09                   | **0.87**            | **0.17**             |\n",
    "| RandomForest           | 0.94     | 0.18                   |  0.02               |  0.04            |\n",
    "\n",
    "---\n",
    "\n",
    "### ✅ **1. Melhor Desempenho — Qual abordagem foi melhor?**\n",
    "\n",
    "Depende do que você considera \"melhor\", mas geralmente:\n",
    "\n",
    "- Se o foco é **identificar corretamente a maioria dos casos positivos** (classe 1), o modelo mais importante será o que tiver **maior recall na classe 1**.\n",
    "- Se o foco é equilibrar entre **não errar ao prever** e **não deixar passar casos**, olhamos para o **F1-score**.\n",
    "\n",
    "#### 🔍 Pela análise:\n",
    "- **Maior recall (Classe 1)**: **AdaBoost** com **0.87**\n",
    "- **Maior F1-score (Classe 1)**: **Regressão Logística Balanceada** com **0.25**\n",
    "- **Maior precisão (Classe 1)**: **KNN**, com **0.29** (mas com recall muito baixo)\n",
    "- **Maior acurácia geral**: **KNN** com **0.95** (enganosa, pois ignora a classe minoritária)\n",
    "\n",
    "✅ **Conclusão:**\n",
    "> **A Regressão Logística com `class_weight=balanced` foi o modelo com melhor equilíbrio entre recall e precisão para a classe 1**, mesmo com acurácia menor.  \n",
    "> O **AdaBoost** teve o maior recall, o que pode ser desejável se o custo de *perder um positivo* for alto, mas sua precisão foi muito baixa.\n",
    "\n",
    "---\n",
    "\n",
    "### ⚠️ **2. Há sinais de overfitting ou underfitting?**\n",
    "\n",
    "- **RandomForest com recall 0.02 e alta acurácia (0.94)**:\n",
    "  - Isso indica **overfitting** à classe majoritária. O modelo aprendeu muito bem os padrões da classe 0, mas ignora a classe 1.\n",
    "\n",
    "- **AdaBoost com baixa acurácia geral (0.59) e alto recall (0.87)**:\n",
    "  - Pode estar **overcorrigindo para detectar positivos**, prevendo demais como 1 → muitos falsos positivos → **underfitting na classe 0**.\n",
    "\n",
    "- **KNN com alta precisão (0.29) e recall baixíssimo (0.07)**:\n",
    "  - **Underfitting** na classe 1 — não está conseguindo identificar quase nenhum caso positivo.\n",
    "\n",
    "✅ **Sinal claro de desbalanceamento afetando todos os modelos**. A regressão logística balanceada encontrou um **compromisso razoável**.\n",
    "\n",
    "---\n",
    "\n",
    "### **3. O modelo mais acurado também é o mais interpretável?**\n",
    "\n",
    "Não para todos os casos, mas neste a afirmação é verdadeira!\n",
    "\n",
    "| Modelo                | Interpretabilidade |\n",
    "|-----------------------|--------------------|\n",
    "| **Regressão Logística** | **Alta** ✅ (coeficientes claros, simples) |\n",
    "| Decision Tree         | Média (visível como árvore, mas cresce rápido) |\n",
    "| KNN                   | Baixa (difícil de interpretar como decide) |\n",
    "| AdaBoost              | Baixa (modelo em ensemble, múltiplas iterações) |\n",
    "| RandomForest          | Baixa (ensemble de árvores, difícil rastrear decisões) |\n",
    "\n",
    "✅ **Regressão Logística** é a mais interpretável e transparente. Ótimo para explicar decisões, identificar influência das variáveis, etc.\n",
    "\n",
    "---\n",
    "\n",
    "###  **4. Como o modelo pode ser usado (ou mal utilizado) em um cenário real?**\n",
    "\n",
    "#### ✔️ **Uso correto:**\n",
    "- Em contextos onde a **classe 1 representa um evento crítico** (ex: fraude, doença rara, falha de sistema), o modelo deve ter **alto recall** — identificar ao máximo os casos reais.\n",
    "- A regressão logística balanceada ou o AdaBoost são úteis aqui.\n",
    "\n",
    "#### ❌ **Uso indevido:**\n",
    "- Se o modelo for usado sem considerar o desbalanceamento, ele pode **ignorar completamente a classe 1** e **dar uma falsa sensação de sucesso** (ex: \"tenho 95% de acurácia!\").\n",
    "- Modelos como RandomForest ou KNN, sem ajuste, **não são confiáveis nesse cenário**.\n",
    "- Usar AdaBoost com alto recall, mas precisão 0.09, pode gerar **muitos falsos alarmes**, o que pode **sobrecarregar equipes, gerar desconfiança no sistema ou até perdas financeiras**."
   ]
  }
 ],
 "metadata": {
  "kernelspec": {
   "display_name": ".venv",
   "language": "python",
   "name": "python3"
  },
  "language_info": {
   "codemirror_mode": {
    "name": "ipython",
    "version": 3
   },
   "file_extension": ".py",
   "mimetype": "text/x-python",
   "name": "python",
   "nbconvert_exporter": "python",
   "pygments_lexer": "ipython3",
   "version": "3.13.2"
  }
 },
 "nbformat": 4,
 "nbformat_minor": 2
}
